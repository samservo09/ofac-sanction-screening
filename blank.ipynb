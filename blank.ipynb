{
 "cells": [
  {
   "cell_type": "code",
   "execution_count": null,
   "metadata": {},
   "outputs": [],
   "source": [
    "from ftplib import FTP_TLS #this class will help us connect to ftp server security\n",
    "\n",
    "#FTP details\n",
    "ftphost = \"172.29.72.147\" #replace with your FTP ip address or just localhost\n",
    "ftpuser = \"ftpuser\" #replace with your FTP username\n",
    "ftppass = \"1234\" #replace with your FTP password\n",
    "ftpport = 21\n",
    "\n",
    "#Login to FTP\n",
    "ftp = FTP_TLS() #instantiate the FTP_TLS() class\n",
    "ftp.connect(ftphost, ftpport)\n",
    "ftp.login(ftpuser, ftppass)\n",
    "ftp.prot_p() #Fix on 522 Data connections must be encrypted. For errors.\n",
    "\n",
    "# #Create a sample file\n",
    "# with open(\"test.txt\", \"w\") as fp:\n",
    "#     fp.write(\"This is my sample message\\n\")\n",
    "#     fp.write(\"Another sample message\\n\")\n",
    "#     fp.write(\"bye\\n\")\n",
    "    \n",
    "# #Upload file to FTP\n",
    "# with open(\"test.txt\", \"rb\") as fp:\n",
    "#     ftp.retrbinary(\"RETR test_ftp.txt\", fp.write)\n",
    "    \n",
    "# #Delete file from FTP\n",
    "# ftp.delete(\"test_ftp.txt\")\n",
    "\n",
    "# #If this line gets printed, you have\n",
    "# # successfully established connection to the\n",
    "# # WSL FTP server\n",
    "\n"
   ]
  }
 ],
 "metadata": {
  "language_info": {
   "name": "python"
  }
 },
 "nbformat": 4,
 "nbformat_minor": 2
}
